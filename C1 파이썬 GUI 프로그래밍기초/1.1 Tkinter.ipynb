{
 "cells": [
  {
   "cell_type": "markdown",
   "metadata": {},
   "source": [
    "- Tkinter는 파이썬의 표준 GUI라이브러리이다\n",
    "- Tkinter는  'Tk interpreter'의 약자다 \n",
    "- Tk는 (Tool kit)를 말한다.\n"
   ]
  }
 ],
 "metadata": {
  "language_info": {
   "name": "python"
  }
 },
 "nbformat": 4,
 "nbformat_minor": 2
}
