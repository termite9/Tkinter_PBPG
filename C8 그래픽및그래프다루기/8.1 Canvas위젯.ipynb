{
 "cells": [
  {
   "cell_type": "markdown",
   "metadata": {},
   "source": [
    "#### 8.1 Canvas위젯\n",
    "\n",
    "w=Canvas(master,option=value)"
   ]
  },
  {
   "cell_type": "markdown",
   "metadata": {},
   "source": [
    "> 라인그리기"
   ]
  },
  {
   "cell_type": "code",
   "execution_count": 4,
   "metadata": {},
   "outputs": [],
   "source": [
    "from tkinter import *\n",
    "root=Tk()\n",
    "root.title(\"Calculator\")\n",
    "\n",
    "canvas_width=80\n",
    "canvas_height=40\n",
    "w=Canvas(root,width=canvas_width,height=canvas_height)\n",
    "w.pack()\n",
    "\n",
    "y=int(canvas_height/2)\n",
    "w.create_line(0,y,canvas_width,y,fill=\"red\")\n",
    "w.create_line(0,10,60,10,fill=\"yellow\")\n",
    "mainloop()\n"
   ]
  }
 ],
 "metadata": {
  "kernelspec": {
   "display_name": "Python 3",
   "language": "python",
   "name": "python3"
  },
  "language_info": {
   "codemirror_mode": {
    "name": "ipython",
    "version": 3
   },
   "file_extension": ".py",
   "mimetype": "text/x-python",
   "name": "python",
   "nbconvert_exporter": "python",
   "pygments_lexer": "ipython3",
   "version": "3.11.9"
  }
 },
 "nbformat": 4,
 "nbformat_minor": 2
}
