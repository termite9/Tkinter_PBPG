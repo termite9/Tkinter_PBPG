{
 "cells": [
  {
   "cell_type": "markdown",
   "metadata": {},
   "source": [
    "- 사용자에게 텍스트 정보를 제공하는 목적으로 사용되며\n",
    "- 사용자가 직접 그 내용을 변경시킬 수 없다.  프로그램 코드로만 바뀐다.\n",
    "- w=Label(master,option=value)  master는 최상위부모윈도우"
   ]
  },
  {
   "cell_type": "code",
   "execution_count": 3,
   "metadata": {},
   "outputs": [],
   "source": [
    "# 간단한 예제\n",
    "\n",
    "import tkinter as tk\n",
    "\n",
    "window = tk.Tk()\n",
    "window.title(\"My First GUI Program\")\n",
    "window.geometry(\"300x300+200+100\")\n",
    "\n",
    "text = tk.Label(window, text=\"Hello, World!\")\n",
    "text.place(x=100, y=100)\n",
    "\n",
    "window.mainloop()"
   ]
  },
  {
   "cell_type": "code",
   "execution_count": 6,
   "metadata": {},
   "outputs": [],
   "source": [
    "#1초마다의 현재의 시간을 레이블로 출력하는 프로그램\n",
    "\n",
    "import tkinter as tk\n",
    "import time\n",
    "\n",
    "def update_clock():\n",
    "    now = time.strftime(\"%H:%M:%S\") # 현재 시간을 문자열로 반환\n",
    "    text.config(text=now)   # 레이블의 텍스트를 변경\n",
    "    window.after(1000, update_clock) # 1초 후에 update_clock 함수를 호출\n",
    "\n",
    "window = tk.Tk()\n",
    "window.title(\"Digital Clock\")\n",
    "window.geometry(\"300x100+200+100\")\n",
    "\n",
    "text = tk.Label(window, text=\"\",fg='red',font=('Helvetica', 48))\n",
    "text.place(x=20, y=20)\n",
    "\n",
    "update_clock()\n",
    "\n",
    "window.mainloop()"
   ]
  }
 ],
 "metadata": {
  "kernelspec": {
   "display_name": "Python 3",
   "language": "python",
   "name": "python3"
  },
  "language_info": {
   "codemirror_mode": {
    "name": "ipython",
    "version": 3
   },
   "file_extension": ".py",
   "mimetype": "text/x-python",
   "name": "python",
   "nbconvert_exporter": "python",
   "pygments_lexer": "ipython3",
   "version": "3.11.9"
  }
 },
 "nbformat": 4,
 "nbformat_minor": 2
}
