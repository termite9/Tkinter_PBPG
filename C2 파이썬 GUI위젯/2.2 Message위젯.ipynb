{
 "cells": [
  {
   "cell_type": "markdown",
   "metadata": {},
   "source": [
    "- 레이블위젯과 마찬가지로 텍스트 정보를 제공한다.\n",
    "- 레이블과 차이는 표시할 문자열이 위젯의 크기보다 큰 경우에 자동으로 줄 바꿈 기능을 한다.\n",
    "- w=Message(master,option=value)"
   ]
  },
  {
   "cell_type": "code",
   "execution_count": 4,
   "metadata": {},
   "outputs": [],
   "source": [
    "# 예제\n",
    "import tkinter as tk\n",
    "\n",
    "window=tk.Tk()\n",
    "window.geometry(\"300x200+50+50\")\n",
    "news=\"7월 부터 코로나19 백신 1회 접종자는 야외에서 마스크 착용을 하지 않아도 된다. 다음달 부터는 1회접종 완료자들은 직계가족 모임 인원에서 제외된다\"\n",
    "\n",
    "msg=tk.Message(window,text=news)\n",
    "msg.config(bg=\"lightblue\",font=(\"times\",14,\"italic\"))\n",
    "# msg.config(justify=\"center\")\n",
    "msg.pack()\n",
    "\n",
    "window.mainloop()"
   ]
  }
 ],
 "metadata": {
  "kernelspec": {
   "display_name": "Python 3",
   "language": "python",
   "name": "python3"
  },
  "language_info": {
   "codemirror_mode": {
    "name": "ipython",
    "version": 3
   },
   "file_extension": ".py",
   "mimetype": "text/x-python",
   "name": "python",
   "nbconvert_exporter": "python",
   "pygments_lexer": "ipython3",
   "version": "3.11.9"
  }
 },
 "nbformat": 4,
 "nbformat_minor": 2
}
