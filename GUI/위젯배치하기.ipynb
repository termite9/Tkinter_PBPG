{
 "cells": [
  {
   "cell_type": "markdown",
   "metadata": {},
   "source": [
    "> 위젯배치하기  pack  place  grid"
   ]
  },
  {
   "cell_type": "code",
   "execution_count": 1,
   "metadata": {},
   "outputs": [],
   "source": [
    "#위젯배치하기  pack  place  grid\n",
    "\n",
    "#pack: 위젯을 위에서 아래로 순서대로 배치\n",
    "#place: 위젯을 좌표를 이용하여 배치\n",
    "#grid: 위젯을 격자(표)를 이용하여 배치 pack와 같이 사용할 수 없다.\n",
    "\n",
    "from tkinter import *\n",
    "window=Tk()\n",
    "window.title(\"윈도우위젯배치하기 pack /place/ grid\")\n",
    "window.geometry(\"200x300\")\n",
    "\n",
    "label1=Label(window, text=\"레이블1\", font=(\"궁서체\", 10), fg=\"blue\",width=10, height=2,bg=\"pink\")\n",
    "# label1.pack(side=LEFT,padx=10,pady=10)\n",
    "label1.grid(row=0,column=0)\n",
    "\n",
    "\n",
    "label2=Label(window, text=\"레이블2\", font=(\"궁서체\", 10), fg=\"blue\",width=10, height=2,bg=\"yellow\")\n",
    "# label2.pack(side='right',padx=10,pady=10)\n",
    "label2.grid(row=0,column=1)\n",
    "\n",
    "\n",
    "\n",
    "label3=Label(window, text=\"레이블3\", font=(\"궁서체\", 10), fg=\"blue\", bg=\"lightgreen\")\n",
    "# label3.pack(side='top',padx=10,pady=10)\n",
    "# label3.place(x=100,y=100)\n",
    "label3.grid(row=3,column=0,columnspan=4)    \n",
    "\n",
    "label4=Label(window, text=\"레이블레이블4\", font=(\"궁서체\", 10), fg=\"white\",bg=\"black\")\n",
    "# label4.pack(side='bottom',padx=10,pady=10)\n",
    "# label4.place(x=0,y=0)\n",
    "label4.grid(row=0,column=2)\n",
    "\n",
    "\n",
    "\n",
    "window.mainloop()"
   ]
  },
  {
   "attachments": {
    "image.png": {
     "image/png": "[encoded data removed]"
    }
   },
   "cell_type": "markdown",
   "metadata": {},
   "source": [
    "![image.png](attachment:image.png)"
   ]
  }
 ],
 "metadata": {
  "kernelspec": {
   "display_name": "Python 3",
   "language": "python",
   "name": "python3"
  },
  "language_info": {
   "codemirror_mode": {
    "name": "ipython",
    "version": 3
   },
   "file_extension": ".py",
   "mimetype": "text/x-python",
   "name": "python",
   "nbconvert_exporter": "python",
   "pygments_lexer": "ipython3",
   "version": "3.11.9"
  }
 },
 "nbformat": 4,
 "nbformat_minor": 2
}
