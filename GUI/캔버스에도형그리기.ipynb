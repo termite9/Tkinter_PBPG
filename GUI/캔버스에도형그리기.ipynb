{
 "cells": [
  {
   "cell_type": "markdown",
   "metadata": {},
   "source": [
    "> 캔버스에 다양한 도형그리기"
   ]
  },
  {
   "cell_type": "code",
   "execution_count": null,
   "metadata": {},
   "outputs": [],
   "source": [
    "#캔버스에 다양한 도형그리기\n",
    "from tkinter import *\n",
    "window=Tk()\n",
    "\n",
    "canvas=Canvas(window, width=500, height=500,bg=\"ivory\")\n",
    "canvas.pack(padx=10,pady=10)\n",
    "\n",
    "# canvas.create_line(0,0,500,500,fill=\"red\",width=3)\n",
    "# canvas.create_line(500,0,0,500,fill=\"red\",width=3)\n",
    "# canvas.create_line(100,100,150,150,200,100,250,150,fill=\"blue\",width=5,smooth=True)\n",
    "\n",
    "# canvas.create_rectangle(100,100,300,300,fill=\"yellow\",outline=\"red\",width=5)\n",
    "# canvas.create_rectangle(200,200,300,300,fill=\"blue\",outline=\"red\",width=5)\n",
    "\n",
    "# canvas.create_oval(300+150,100+100,300+50,250,outline=\"red\",width=1)\n",
    "# canvas.create_oval(300,100,300,250,outline=\"red\",width=1)\n",
    "\n",
    "# canvas.create_oval(400-50,100-30,400+50,100+50,fill=\"blue\",outline=\"red\",width=5)\n",
    "\n",
    "# canvas.create_polygon(100,100,200,200,300,100,200,50,20,300,fill=\"yellow\",width=1)\n",
    "\n",
    "canvas.create_arc(50,50,250,200,fill=\"yellow\",outline=\"red\",width=5,start=80,extent=45,style=ARC)\n",
    "canvas.create_arc(250,50,450,200,fill=\"yellow\",outline=\"red\",width=5,start=60,extent=45,style=ARC)\n",
    "window.mainloop()"
   ]
  }
 ],
 "metadata": {
  "language_info": {
   "name": "python"
  }
 },
 "nbformat": 4,
 "nbformat_minor": 2
}
