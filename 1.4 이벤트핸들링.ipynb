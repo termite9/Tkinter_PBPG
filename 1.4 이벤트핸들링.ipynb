{
 "cells": [
  {
   "cell_type": "markdown",
   "metadata": {},
   "source": [
    "- GUI프로그램은 \n",
    "- 이벤트가 발생하면 그에 대응되는 이벤트 핸들러가 실행되는 과정을 프로그램 종료 전까지 무한히 반복한다.\n",
    "- Tkinter를 이용하여 이벤트를 처리할 경우에는  bind()메서드를 사용한다.\n",
    "- 형식은  widget.bind(event,handler)"
   ]
  },
  {
   "cell_type": "code",
   "execution_count": null,
   "metadata": {},
   "outputs": [
    {
     "name": "stdout",
     "output_type": "stream",
     "text": [
      "안녕하세요! 버튼이 클릭되었어요!\n",
      "안녕하세요! 버튼이 클릭되었어요!\n",
      "안녕하세요! 버튼이 클릭되었어요!\n"
     ]
    }
   ],
   "source": [
    "from tkinter import *\n",
    "\n",
    "def hello(event):\n",
    "    print('안녕하세요! 버튼이 클릭되었어요!')\n",
    "\n",
    "def quit(event):\n",
    "    print('더블클릭으로 종료합니다.')\n",
    "    top.done()\n",
    "top=Tk()\n",
    "widget=Button(top,text='클릭')\n",
    "widget.pack()\n",
    "\n",
    "widget.bind('<Button-1>',hello)\n",
    "widget.bind('<Double-1>',quit)\n",
    "widget.bind('<Enter>',hello)\n",
    "widget.bind('<Key>',hello)\n",
    "\n",
    "\n",
    "top.mainloop()\n",
    "\n"
   ]
  }
 ],
 "metadata": {
  "kernelspec": {
   "display_name": "Python 3",
   "language": "python",
   "name": "python3"
  },
  "language_info": {
   "codemirror_mode": {
    "name": "ipython",
    "version": 3
   },
   "file_extension": ".py",
   "mimetype": "text/x-python",
   "name": "python",
   "nbconvert_exporter": "python",
   "pygments_lexer": "ipython3",
   "version": "3.11.9"
  }
 },
 "nbformat": 4,
 "nbformat_minor": 2
}
