{
 "cells": [
  {
   "cell_type": "code",
   "execution_count": null,
   "metadata": {},
   "outputs": [],
   "source": [
    "import tkinter\n",
    "\n",
    "window=tkinter.Tk()  #최상위 윈도우에 대응되는 클래스다\n",
    "\n",
    "#위젯추가\n",
    "\n",
    "window.mainloop() #이벤트루프 , 프로그램종료시 까지 반복처리된다."
   ]
  },
  {
   "cell_type": "code",
   "execution_count": null,
   "metadata": {},
   "outputs": [],
   "source": [
    "#윈도우 크기 및 초기위치는 geometry메서드로 지정가능\n",
    "#window.geometry(\"640x400+100+100\") #너비x높이+(x좌표+y좌표->화면좌측상단기준에서 얼마나 떨어져서 표시되는지지정)\n",
    "\n",
    "import tkinter\n",
    "\n",
    "window=tkinter.Tk()\n",
    "window.geometry(\"640x400+100+100\")\n",
    "\n",
    "window.mainloop()"
   ]
  },
  {
   "cell_type": "code",
   "execution_count": 6,
   "metadata": {},
   "outputs": [],
   "source": [
    "#윈도우 크기 및 초기위치는 geometry메서드로 지정가능\n",
    "#window.geometry(\"640x400+100+100\") #너비x높이+x좌표+y좌표\n",
    "\n",
    "import tkinter\n",
    "\n",
    "window=tkinter.Tk()\n",
    "window.geometry(\"640x400+100+100\")\n",
    "\n",
    "b1=tkinter.Button(window,text=\"top\")\n",
    "b1.pack(side=\"top\")\n",
    "\n",
    "window.mainloop()"
   ]
  },
  {
   "cell_type": "code",
   "execution_count": 11,
   "metadata": {},
   "outputs": [],
   "source": [
    "#객체지향 스타일로 프로그래밍을 하고자 할 경우 클래스를 정의하고 클래스의 인스턴스를 생성하여 사용한다.\n",
    "#클래스는 tkinter.Tk 클래스를 상속받아 정의하고 __init__ 메서드에서 부모 클래스의 생성자를 호출한다.\n",
    "#클래스의 인스턴스를 생성하고 인스턴스의 mainloop 메서드를 호출한다.\n",
    "\n",
    "import tkinter as tk\n",
    "\n",
    "class Application(tk.Tk):\n",
    "    def __init__(self):\n",
    "        super().__init__() #부모클래스의 생성자 호출\n",
    "        self.geometry(\"640x400+100+100\")\n",
    "        self.create_widgets()\n",
    "\n",
    "    def create_widgets(self):\n",
    "        self.b1=tk.Button(self,text=\"top\")\n",
    "        self.b1.pack(side=\"top\")\n",
    "\n",
    "app=Application()\n",
    "app.mainloop()"
   ]
  }
 ],
 "metadata": {
  "kernelspec": {
   "display_name": "Python 3",
   "language": "python",
   "name": "python3"
  },
  "language_info": {
   "codemirror_mode": {
    "name": "ipython",
    "version": 3
   },
   "file_extension": ".py",
   "mimetype": "text/x-python",
   "name": "python",
   "nbconvert_exporter": "python",
   "pygments_lexer": "ipython3",
   "version": "3.11.9"
  }
 },
 "nbformat": 4,
 "nbformat_minor": 2
}
