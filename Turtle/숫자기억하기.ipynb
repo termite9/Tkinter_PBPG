{
 "cells": [
  {
   "cell_type": "markdown",
   "metadata": {},
   "source": [
    "> 숫자를 몇개까지 기억하는지 확인하는 프로그램\n"
   ]
  },
  {
   "cell_type": "code",
   "execution_count": null,
   "metadata": {},
   "outputs": [],
   "source": [
    "#숫자를 몇개까지 기억하는지 확인하는 프로그램\n",
    "import random\n",
    "import time\n",
    "import turtle as t\n",
    "\n",
    "t.bgcolor(\"pink\")\n",
    "t.ht()  #거북이를 숨긴다  ht()는 hide turtle/ st()는 show turtle\n",
    "t.up()  #붓을 종이에서 떼었다고 생각하면 된다. 그림이 그리지 않는다.\n",
    "\n",
    "num_times=int(t.textinput(\"숫자기억하기 게임\", \"몇개의 숫자를 기억할 수 있나요?\"))\n",
    "t.write(\"숫자기억하기 게임을 시작합니다.\", False,align=\"center\", font=(\"Arial\", 25, \"bold\"))\n",
    "\n",
    "time.sleep(3)\n",
    "t.clear()\n",
    "\n",
    "\n",
    "num=\"\"\n",
    "for i in range(num_times):\n",
    "    rand_num=random.randint(1,50)\n",
    "    t.write(rand_num, False,align=\"center\", font=(\"Arial\", 70, \"bold\"))\n",
    "    num += str(rand_num)\n",
    "    num += \" \"\n",
    "    time.sleep(1)\n",
    "    t.clear()\n",
    "\n",
    "user_input=t.textinput(\"숫자기억하기 게임\", \"기억한 숫자를 입력하세요\")\n",
    "\n",
    "if user_input==num.strip(): #strip()은 문자열의 양쪽 공백을 제거한다.\n",
    "    t.write(\"정답입니다.\", False,align=\"center\", font=(\"Arial\", 25, \"bold\"))\n",
    "else:\n",
    "    t.write(\"틀렸습니다.\", False,align=\"center\", font=(\"Arial\", 25, \"bold\"))\n",
    "    t.goto(0,-50)\n",
    "    t.write(f\"정답은 {num} 입니다.\", False,align=\"center\", font=(\"Arial\", 25, \"bold\"))\n",
    "    t.goto(0,-100)\n",
    "    t.write(f\"당신의 입력은 {user_input} 입니다.\", False,align=\"center\", font=(\"Arial\", 25, \"bold\"))\n",
    "\n",
    "\n",
    "# t.ht()  #거북이를 숨긴다  ht()는 hide turtle/ st()는 show turtle\n",
    "time.sleep(3)  \n",
    "t.bye()  # Close the turtle graphics window"
   ]
  }
 ],
 "metadata": {
  "language_info": {
   "name": "python"
  }
 },
 "nbformat": 4,
 "nbformat_minor": 2
}
