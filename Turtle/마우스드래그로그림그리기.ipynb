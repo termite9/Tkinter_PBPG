{
 "cells": [
  {
   "cell_type": "markdown",
   "metadata": {},
   "source": [
    "> #터들로 간단하게 그림을 그리는 방법\n",
    "#마우스를 드래그해서 그림을 그린다음 색상을 채운다.\n"
   ]
  },
  {
   "cell_type": "code",
   "execution_count": 1,
   "metadata": {},
   "outputs": [],
   "source": [
    "#터들로 간단하게 그림을 그리는 방법\n",
    "#마우스를 드래그해서 그림을 그린다음 색상을 채운다.\n",
    "\n",
    "import turtle as t\n",
    "import time\n",
    "\n",
    "def pen_up():\n",
    "    t.penup()\n",
    "def pen_down():\n",
    "    t.pendown()\n",
    "\n",
    "def begin_fill():\n",
    "    t.begin_fill()\n",
    "def end_fill():\n",
    "    t.end_fill()\n",
    "\n",
    "def green_color():\n",
    "    t.color(\"green\")\n",
    "def pink_color():\n",
    "    t.color(\"pink\")\n",
    "def black_color():\n",
    "    t.color(\"black\")\n",
    "def white_color():\n",
    "    t.color(\"white\")\n",
    "\n",
    "def draw_ondrag(x,y):\n",
    "    t.ondrag(None)\n",
    "    t.goto(x,y)\n",
    "    t.ondrag(draw_ondrag)\n",
    "\n",
    "t.speed(0) #1~10까지 속도조절가능하며  '0'은 최고속도\n",
    "t.bgcolor(\"ivory\")\n",
    "t.pensize(3)\n",
    "\n",
    "# t.onscreenclick(t.goto)  #마우스를 클릭할때마다 이벤트를 발생시킨다.\n",
    "t.onscreenclick(draw_ondrag)  #마우스를 클릭할때마다 이벤트를 발생시킨다.\n",
    "# t.onkeypress(함수,키)\n",
    "t.onkeypress(green_color,\"g\")  #g키를 누르면 green_color함수를 실행한다.\n",
    "t.onkeypress(pink_color,\"p\")  #p키를 누르면 pink_color함수를 실행한다.\n",
    "t.onkeypress(black_color,\"b\")  #b키를 누르면 black_color함수를 실행한다.\n",
    "t.onkeypress(white_color,\"w\")  #w키를 누르면 white_color함수를 실행한다.\n",
    "t.onkeypress(pen_up,\"Up\")  #u키를 누르면 pen_up함수를 실행한다. Up은 방향키 위쪽을 의미한다.\n",
    "t.onkeypress(pen_down,\"Down\")  #d키를 누르면 pen_down함수를 실행한다.Down은 방향키 아래쪽을 의미한다.\n",
    "\n",
    "#색을 채우기 위해서는 그림을 그리기 전에 비긴필을 선택하고 그림을 그린후에 엔드필을 선택해야한다.\n",
    "t.onkeypress(begin_fill,\"Left\")  #f키를 누르면 begin_fill함수를 실행한다. Lqft는 방향키 왼쪽을 의미한다.\n",
    "t.onkeypress(end_fill,\"Right\")  #e키를 누르면 end_fill함수를 실행한다. Right는 방향키 오른쪽을 의미한다.\n",
    "t.listen()  #키보드 이벤트를 받을수 있게 한다.\n",
    "#위두개는 반드시 같이 사용해야한다. \n",
    "\n",
    "t.done()  # \n"
   ]
  }
 ],
 "metadata": {
  "kernelspec": {
   "display_name": "Python 3",
   "language": "python",
   "name": "python3"
  },
  "language_info": {
   "codemirror_mode": {
    "name": "ipython",
    "version": 3
   },
   "file_extension": ".py",
   "mimetype": "text/x-python",
   "name": "python",
   "nbconvert_exporter": "python",
   "pygments_lexer": "ipython3",
   "version": "3.11.9"
  }
 },
 "nbformat": 4,
 "nbformat_minor": 2
}
