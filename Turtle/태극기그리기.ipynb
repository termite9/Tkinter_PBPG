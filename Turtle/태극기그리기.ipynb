{
 "cells": [
  {
   "cell_type": "code",
   "execution_count": 1,
   "metadata": {},
   "outputs": [
    {
     "ename": "Terminator",
     "evalue": "",
     "output_type": "error",
     "traceback": [
      "\u001b[1;31m---------------------------------------------------------------------------\u001b[0m",
      "\u001b[1;31mTerminator\u001b[0m                                Traceback (most recent call last)",
      "Cell \u001b[1;32mIn[1], line 15\u001b[0m\n\u001b[0;32m     12\u001b[0m     t\u001b[38;5;241m.\u001b[39mcolor(\u001b[38;5;124m\"\u001b[39m\u001b[38;5;124mblue\u001b[39m\u001b[38;5;124m\"\u001b[39m)\n\u001b[0;32m     14\u001b[0m   t\u001b[38;5;241m.\u001b[39mforward(x\u001b[38;5;241m*\u001b[39m\u001b[38;5;241m2\u001b[39m)      \u001b[38;5;66;03m# 반복하면서 선이 점차적으로 길어짐\u001b[39;00m\n\u001b[1;32m---> 15\u001b[0m   \u001b[43mt\u001b[49m\u001b[38;5;241;43m.\u001b[39;49m\u001b[43mleft\u001b[49m\u001b[43m(\u001b[49m\u001b[38;5;241;43m119\u001b[39;49m\u001b[43m)\u001b[49m         \u001b[38;5;66;03m# 119도 왼쪽으로 회전\u001b[39;00m\n\u001b[0;32m     17\u001b[0m t\u001b[38;5;241m.\u001b[39mmainloop()\n",
      "File \u001b[1;32m<string>:5\u001b[0m, in \u001b[0;36mleft\u001b[1;34m(angle)\u001b[0m\n",
      "\u001b[1;31mTerminator\u001b[0m: "
     ]
    }
   ],
   "source": [
    "import turtle as t\n",
    "\n",
    "t.bgcolor(\"black\")    # 배경색\n",
    "t.speed(0)\n",
    "\n",
    "for x in range(200):\n",
    "  if x%3 == 0:\n",
    "    t.color(\"red\")\n",
    "  if x%3 == 1:\n",
    "    t.color(\"yellow\")\n",
    "  if x%3 == 2:\n",
    "    t.color(\"blue\")\n",
    "    \n",
    "  t.forward(x*2)      # 반복하면서 선이 점차적으로 길어짐\n",
    "  t.left(119)         # 119도 왼쪽으로 회전\n",
    "\n",
    "t.mainloop()"
   ]
  }
 ],
 "metadata": {
  "kernelspec": {
   "display_name": "Python 3",
   "language": "python",
   "name": "python3"
  },
  "language_info": {
   "codemirror_mode": {
    "name": "ipython",
    "version": 3
   },
   "file_extension": ".py",
   "mimetype": "text/x-python",
   "name": "python",
   "nbconvert_exporter": "python",
   "pygments_lexer": "ipython3",
   "version": "3.11.9"
  }
 },
 "nbformat": 4,
 "nbformat_minor": 2
}
