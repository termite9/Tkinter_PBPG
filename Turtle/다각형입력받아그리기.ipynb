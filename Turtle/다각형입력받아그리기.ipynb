{
 "cells": [
  {
   "cell_type": "markdown",
   "metadata": {},
   "source": [
    "> 다각형을 입력받아서 그리기\n"
   ]
  },
  {
   "cell_type": "code",
   "execution_count": null,
   "metadata": {},
   "outputs": [],
   "source": [
    "#다각형을 입력받아서 그리기\n",
    "import turtle\n",
    "import time\n",
    "\n",
    "turtle.shape(\"turtle\") #triangle, circle, square, turtle\n",
    "turtle.bgcolor('lightblue')\n",
    "turtle.pensize(10)\n",
    "\n",
    "# #숫자형은 numinput\n",
    "polygon=int(turtle.numinput(\"다각형그리기\", \"몇각형을 그리겠습니까?\"))\n",
    "\n",
    "for i in range(polygon):  # Repeat the following 4 times\n",
    "    turtle.forward(100)  # Move turtle forward by 100 units\n",
    "    turtle.left(360/polygon)  # Turn turtle left by 120 degrees\n",
    "\n",
    "\n",
    "turtle.ht() #turtle을 숨김\n",
    "turtle.done()  # Close the turtle graphics window\n"
   ]
  },
  {
   "cell_type": "markdown",
   "metadata": {},
   "source": [
    "![image.png](attachment:image.png)\n",
    "![image-2.png](attachment:image-2.png)"
   ]
  }
 ],
 "metadata": {
  "language_info": {
   "name": "python"
  }
 },
 "nbformat": 4,
 "nbformat_minor": 2
}
