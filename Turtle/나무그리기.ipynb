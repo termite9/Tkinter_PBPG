{
 "cells": [
  {
   "cell_type": "markdown",
   "metadata": {},
   "source": [
    "> 터들을 이용하여 나무를 그린다\n"
   ]
  },
  {
   "cell_type": "code",
   "execution_count": null,
   "metadata": {},
   "outputs": [],
   "source": [
    "#터들을 이용하여 나무를 그린다. 하나의가지가 그려지는 함수를 만들고 이를이요하여 또다른 가지를 그린다.\n",
    "import turtle as t\n",
    "import random\n",
    "\n",
    "def tree(length,pen_size): #매개변수(가지길이, 가지굵기)\n",
    "\n",
    "    angle=random.randint(15,30) #정수를 추출할때\n",
    "    branch=random.uniform(0.6,0.9) #실수를 추출할때\n",
    "    r_color=random.choice(color_list) #잎의색깔을 랜덤으로 선택한다.\n",
    "\n",
    "    #가지 길이가 35보다 작을때 부터 잎을 그린다.    \n",
    "    if length <35:\n",
    "        t.color(r_color)\n",
    "        t.stamp()  #잎을 찍는다.\n",
    "        t.color(\"brown\") #가지색깔을 갈색으로 설정한다.\n",
    "\n",
    "    if length > 12:\n",
    "        #가지그리기\n",
    "        t.pensize(pen_size)\n",
    "        pen_size *=0.7 #가지를 점점 가늘게 그리기위해서 가지굵기를 줄인다.\n",
    "        t.forward(length)  \n",
    "        #50도를 회전하여 왼쪽가지그린 후 오른쪽 가지를 그린다.\n",
    "        t.left(angle)  #왼쪽으로 50도 회전\n",
    "        tree(length*branch,pen_size)  #가지의 길이를 0.7배 줄인다.\n",
    "        t.right(angle*2) #오른쪽으로 100도 회전\n",
    "        tree(length*branch,pen_size)  #가지의 길이를 0.7배 줄인다.\n",
    "        #원위치\n",
    "        t.left(angle)  #왼쪽으로 50도 회전\n",
    "        t.backward(length)  #100만큼 후진\n",
    "\n",
    "def grass(): #바닥에 잔디를 그린다.\n",
    "    t.up()\n",
    "    t.goto(-380,-280)\n",
    "    t.shapesize(7)\n",
    "    while t.xcor() < 380:\n",
    "        t.setheading(0)\n",
    "        t.forward(15)\n",
    "        t.color(random.choice(color_list))\n",
    "        t.setheading(random.randint(60,120))\n",
    "        t.stamp()\n",
    "\n",
    "#잎을 그린다\n",
    "color_list=[\"green\",'darkgreen','lightgreen','yellowgreen','forestgreen','limegreen','seagreen','mediumseagreen','springgreen','palegreen','olive','olivedrab','darkolivegreen','greenyellow','chartreuse','lawngreen','mediumspringgreen']\n",
    "\n",
    "t.bgcolor(\"lightblue\")\n",
    "t.speed(0) #1~10까지 속도조절가능하며  '0'은 최고속도\n",
    "t.setheading(90)  #거북이가 바라보는 각도를 0으로 설정한다.\n",
    "t.up()\n",
    "t.goto(0,-300) #시작위치를 아래로 내린다.\n",
    "t.down()\n",
    "t.color(\"brown\")\n",
    "tree(100,10)\n",
    "grass()\n",
    "\n",
    "\n",
    "t.done()"
   ]
  }
 ],
 "metadata": {
  "language_info": {
   "name": "python"
  }
 },
 "nbformat": 4,
 "nbformat_minor": 2
}
