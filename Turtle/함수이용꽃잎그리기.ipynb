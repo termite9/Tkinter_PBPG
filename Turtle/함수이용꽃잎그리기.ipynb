{
 "cells": [
  {
   "cell_type": "markdown",
   "metadata": {},
   "source": [
    "> 터들로 함수를 사용하여 꽃잎그리기\n"
   ]
  },
  {
   "cell_type": "code",
   "execution_count": 19,
   "metadata": {},
   "outputs": [],
   "source": [
    "#터들로 함수를 사용하여 꽃잎그리기\n",
    "import turtle as t\n",
    "import time\n",
    "\n",
    "t.speed(0) #1~10까지 속도조절가능하며  '0'은 최고속도\n",
    "def petal():\n",
    "    angle=100\n",
    "    for i in range(2):\n",
    "        t.circle(170,angle)  #반지름을 넣는다(반지름,각)\n",
    "        t.left(180-angle)\n",
    "\n",
    "def draw_flower():\n",
    "    t.color(\"pink\")\n",
    "    t.begin_fill()\n",
    "    for i in range(10):\n",
    "        petal()\n",
    "        t.left(360/10)\n",
    "    t.end_fill()\n",
    "\n",
    "    for i in range(10):\n",
    "        petal()\n",
    "        t.left(360/10)\n",
    "        t.color(\"white\")\n",
    "        t.pensize(3)\n",
    "\n",
    "    t.goto(0,-30)\n",
    "    t.color(\"green\")\n",
    "    t.begin_fill()\n",
    "    t.circle(30)\n",
    "    t.end_fill()\n",
    "\n",
    "\n",
    "    t.goto(0,-10)\n",
    "    t.color(\"red\")\n",
    "    t.begin_fill()\n",
    "    t.circle(10)\n",
    "    t.end_fill()\n",
    "\n",
    "    # t.up()\n",
    "    # t.goto(0,-100)\n",
    "    # t.down()\n",
    "    # t.color(\"black\")\n",
    "    # t.circle(100,360)\n",
    "    # t.circle(120,360)\n",
    "    # t.circle(140,360)\n",
    "    # t.circle(160,360)\n",
    "draw_flower()\n",
    "# t.bgcolor(\"black\")\n",
    "t.ht()  # 거북이를 숨긴다\n",
    "t.done()  # "
   ]
  }
 ],
 "metadata": {
  "kernelspec": {
   "display_name": "Python 3",
   "language": "python",
   "name": "python3"
  },
  "language_info": {
   "codemirror_mode": {
    "name": "ipython",
    "version": 3
   },
   "file_extension": ".py",
   "mimetype": "text/x-python",
   "name": "python",
   "nbconvert_exporter": "python",
   "pygments_lexer": "ipython3",
   "version": "3.11.9"
  }
 },
 "nbformat": 4,
 "nbformat_minor": 2
}
