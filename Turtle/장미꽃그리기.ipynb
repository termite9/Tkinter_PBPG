{
 "cells": [
  {
   "cell_type": "markdown",
   "metadata": {},
   "source": [
    "> #장미꽃 그리기  줄기와 잎이 가늘어진다.  꽃도 펜굵기가 변한다\n"
   ]
  },
  {
   "cell_type": "code",
   "execution_count": 1,
   "metadata": {},
   "outputs": [],
   "source": [
    "#장미꽃 그리기  줄기와 잎이 가늘어진다.  꽃도 펜굵기가 변한다.\n",
    "import turtle as t\n",
    "\n",
    "t.bgcolor(\"black\")\n",
    "t.color(\"red\")\n",
    "t.speed(0) #1~10까지 속도조절가능하며  '0'은 최고속도\n",
    "\n",
    "for i in range(200):\n",
    "    t.pensize(i/50)\n",
    "    t.forward(i)\n",
    "    t.left(65)\n",
    "\n",
    "t.color('green')\n",
    "t.setheading(270) #거북이가바라보는 각도를 지정  0은 오른쪽 90은 위쪽 180은 왼쪽 270은 아래쪽\n",
    "\n",
    "for i in range(50):\n",
    "    t.pensize(25-i/2)\n",
    "    t.forward(i/4)\n",
    "\n",
    "\n",
    "\n",
    "t.color('yellowgreen')\n",
    "t.setheading(50)\n",
    "for x in range(100):\n",
    "    t.pensize(100-x)\n",
    "    t.forward(x/10)\n",
    "\n",
    "t.ht()  #거북이를 숨긴다  ht()는 hide turtle/ st()는 show turtle\n",
    "\n",
    "\n",
    "t.done()  # Close the turtle graphics window\n"
   ]
  }
 ],
 "metadata": {
  "kernelspec": {
   "display_name": "Python 3",
   "language": "python",
   "name": "python3"
  },
  "language_info": {
   "codemirror_mode": {
    "name": "ipython",
    "version": 3
   },
   "file_extension": ".py",
   "mimetype": "text/x-python",
   "name": "python",
   "nbconvert_exporter": "python",
   "pygments_lexer": "ipython3",
   "version": "3.11.9"
  }
 },
 "nbformat": 4,
 "nbformat_minor": 2
}
