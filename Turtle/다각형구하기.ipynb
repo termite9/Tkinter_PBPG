{
 "cells": [
  {
   "cell_type": "markdown",
   "metadata": {},
   "source": [
    "> 터틀프로그램을 이용하여 다각형 구하기"
   ]
  },
  {
   "cell_type": "code",
   "execution_count": 9,
   "metadata": {},
   "outputs": [],
   "source": [
    "#터틀프로그램을 이용하여 다각형 구하기\n",
    "\n",
    "import turtle\n",
    "import random\n",
    "# import time\n",
    "# turtle.color(\"purple\")  # Set the color to purple\n",
    "# turtle.penup()  # Lift the pen to move without drawing\n",
    "# turtle.goto(-150, 0)  # Move to the starting position for the ellipse\n",
    "# turtle.pendown()  # Put the pen down to start drawing\n",
    "\n",
    "# for _ in range(2):  # Draw an ellipse using two arcs\n",
    "#     turtle.circle(100, 90)  # Draw a quarter-circle with radius 100\n",
    "#     turtle.circle(50, 90)  # Draw a quarter-circle with radius 50\n",
    "\n",
    "\n",
    "# turtle.setup(width=600, height=600)\n",
    "# turtle.shape(\"turtle\")  # triangle, circle, square, turtle\n",
    "# turtle.bgcolor('pink')\n",
    "color=[\"red\",\"blue\",\"green\",\"yellow\",\"purple\"]\n",
    "turtle.color(\"blue\")  # Set the color to red\n",
    "\n",
    "# for i in range(4):  # Repeat the following 4 times\n",
    "#     turtle.forward(100)  # Move turtle forward by 100 units\n",
    "#     turtle.left(90)  # Turn turtle left by 120 degrees\n",
    "# turtle.left(90)  # Turn turtle left by 90 degrees\n",
    "\n",
    "# for i in range(4):\n",
    "#     turtle.forward(100)  # Move turtle forward by 100 units\n",
    "#     turtle.left(90)  # Turn turtle left by 120 degrees\n",
    "turtle.speed(0)  # Set the speed of the turtle to maximum\n",
    "for k in range(4):  # Repeat the following 4 times\n",
    "    for x in range(4):  # Repeat the following 4 times\n",
    "        for i in range(4):\n",
    "            turtle.begin_fill()      # Begin the fill process\n",
    "\n",
    "            for j in range(4):\n",
    "                turtle.forward(20)\n",
    "                turtle.left(90)\n",
    "            turtle.forward(20)\n",
    "            turtle.color(random.choice(color))  # Set the color to a random choice from the list\n",
    "\n",
    "            turtle.end_fill()  # End the fill proces\n",
    "\n",
    "        turtle.backward(80)\n",
    "        turtle.left(90)\n",
    "        turtle.forward(20)\n",
    "        turtle.right(90)\n",
    "turtle.home()  # Move the turtle to the center of the screen\n",
    "# turtle.color(random.choice(color))  # Set the color to a random choice from the list\n",
    "\n",
    "for j in range(3):  # Repeat the following 3 times\n",
    "    turtle.begin_fill()      # Begin the fill process\n",
    "    for i in range(3):  # Repeat the following 3 times\n",
    "        turtle.forward(100)  # Move turtle forward by 100 units\n",
    "        turtle.left(120)  # Turn turtle left by 120 degrees\n",
    "    turtle.color(random.choice(color))  # Set the color to a random choice from the list\n",
    "    turtle.end_fill()  # End the fill proces\n",
    "    turtle.left(90)  # Turn turtle left by 90 degrees\n",
    "    turtle.penup()\n",
    "    turtle.forward(100)  # Move turtle forward by 100 units\n",
    "    turtle.pendown()  # Put the pen down to start drawing\n",
    "    turtle.right(90)  # Turn turtle right by 90 degrees\n",
    "\n",
    "\n",
    "\n",
    "\n",
    "# turtle.color(\"green\")  # Set the color to red\n",
    "# for i in range(5):  # Repeat the following 5 times\n",
    "#     turtle.forward(100)  # Move turtle forward by 100 units\n",
    "#     turtle.left(72)  # Turn turtle left by 72 degrees\n",
    "\n",
    "\n",
    "\n",
    "turtle.done()  # Close the turtle graphics window"
   ]
  },
  {
   "cell_type": "markdown",
   "metadata": {},
   "source": [
    "![image.png](attachment:image.png)"
   ]
  }
 ],
 "metadata": {
  "kernelspec": {
   "display_name": "Python 3",
   "language": "python",
   "name": "python3"
  },
  "language_info": {
   "codemirror_mode": {
    "name": "ipython",
    "version": 3
   },
   "file_extension": ".py",
   "mimetype": "text/x-python",
   "name": "python",
   "nbconvert_exporter": "python",
   "pygments_lexer": "ipython3",
   "version": "3.11.9"
  }
 },
 "nbformat": 4,
 "nbformat_minor": 2
}
