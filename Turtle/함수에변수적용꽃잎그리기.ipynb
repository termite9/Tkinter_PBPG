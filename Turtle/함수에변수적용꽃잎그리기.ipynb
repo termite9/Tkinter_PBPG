{
 "cells": [
  {
   "cell_type": "markdown",
   "metadata": {},
   "source": [
    "> 터들로 함수를 사용하여  매개변수를 사용하여 꽃잎갯수,사이즈,각도를 랜덤으로 불러와 꽃잎그리기\n"
   ]
  },
  {
   "cell_type": "code",
   "execution_count": 1,
   "metadata": {},
   "outputs": [],
   "source": [
    "#터들로 함수를 사용하여  매개변수를 사용하여 꽃잎갯수,사이즈,각도를 랜덤으로 불러와 꽃잎그리기\n",
    "import turtle as t\n",
    "import time\n",
    "import random\n",
    "\n",
    "\n",
    "t.speed(0) #1~10까지 속도조절가능하며  '0'은 최고속도\n",
    "def petal(size,angle):\n",
    "    for i in range(2):\n",
    "        t.circle(size,angle)  #반지름을 넣는다(반지름,각)(크기 ㄱ,각도)\n",
    "        t.left(180-angle)\n",
    "\n",
    "def draw_flower(petal_num,petal_size,petal_angle): #매개변수를 사용\n",
    "    t.color(\"pink\")\n",
    "    t.begin_fill()\n",
    "    for i in range(petal_num):\n",
    "        petal(petal_size,petal_angle)\n",
    "        t.left(360/petal_num)\n",
    "    t.end_fill()\n",
    "\n",
    "    t.goto(0,-30)\n",
    "    t.color(\"green\")\n",
    "    t.begin_fill()\n",
    "    t.circle(30)\n",
    "    t.end_fill()\n",
    "\n",
    "t.bgcolor(\"black\")\n",
    "\n",
    "petal_num=random.randint(5,10)\n",
    "petal_size=random.randint(50,150)\n",
    "petal_angle=random.randint(70,120)\n",
    "draw_flower(petal_num,petal_size,petal_angle)\n",
    "t.ht()  # 거북이를 숨긴다\n",
    "t.done()  # "
   ]
  }
 ],
 "metadata": {
  "kernelspec": {
   "display_name": "Python 3",
   "language": "python",
   "name": "python3"
  },
  "language_info": {
   "codemirror_mode": {
    "name": "ipython",
    "version": 3
   },
   "file_extension": ".py",
   "mimetype": "text/x-python",
   "name": "python",
   "nbconvert_exporter": "python",
   "pygments_lexer": "ipython3",
   "version": "3.11.9"
  }
 },
 "nbformat": 4,
 "nbformat_minor": 2
}
