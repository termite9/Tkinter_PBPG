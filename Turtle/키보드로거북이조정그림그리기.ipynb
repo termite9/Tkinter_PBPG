{
 "cells": [
  {
   "cell_type": "code",
   "execution_count": null,
   "metadata": {},
   "outputs": [],
   "source": [
    "import turtle as t\n",
    "\n",
    "def turn_right():   # 오른쪽으로 이동하는 함수\n",
    "  t.setheading(0)   # t.seth(0)으로 입력해도 됨\n",
    "  t.forward(10)     # t.fd(10)으로 입력해도 됨\n",
    "\n",
    "def turn_up():\n",
    "  t.setheading(90)\n",
    "  t.forward(10)\n",
    "\n",
    "def turn_left():\n",
    "  t.setheading(180)\n",
    "  t.forward(10)\n",
    "\n",
    "def turn_down():\n",
    "  t.setheading(270)\n",
    "  t.forward(10)\n",
    "\n",
    "def blank():\n",
    "  t.clear()\n",
    "\n",
    "t.shape(\"turtle\")                 # 커서의 모양을 거북이 모양으로 변경\n",
    "t.speed(0)\n",
    "t.onkeypress(turn_right, \"Right\") # 오른쪽 방향키를 누르면 turn_right 함수 실행\n",
    "t.onkeypress(turn_up, \"Up\")\n",
    "t.onkeypress(turn_left, \"Left\")\n",
    "t.onkeypress(turn_down, \"Down\")\n",
    "t.onkeypress(blank, \"Escape\")     # ESC를 누르면 blank 함수 실행\n",
    "t.listen()                        # 그래픽 창에서 키보드 입력을 기다림\n",
    "\n",
    "t.mainloop()                      # 그래픽 창이 닫히지 않도록 유지"
   ]
  }
 ],
 "metadata": {
  "kernelspec": {
   "display_name": "Python 3",
   "language": "python",
   "name": "python3"
  },
  "language_info": {
   "codemirror_mode": {
    "name": "ipython",
    "version": 3
   },
   "file_extension": ".py",
   "mimetype": "text/x-python",
   "name": "python",
   "nbconvert_exporter": "python",
   "pygments_lexer": "ipython3",
   "version": "3.11.9"
  }
 },
 "nbformat": 4,
 "nbformat_minor": 2
}
