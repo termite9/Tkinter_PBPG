{
 "cells": [
  {
   "cell_type": "markdown",
   "metadata": {},
   "source": [
    "> 아이스크림 모양 그리기\n"
   ]
  },
  {
   "cell_type": "code",
   "execution_count": null,
   "metadata": {},
   "outputs": [],
   "source": [
    "#아이스크림모양 그리기\n",
    "import turtle as t\n",
    "import time\n",
    "t.bgcolor(\"pink\")\n",
    "\n",
    "\n",
    "t.color(\"red\")\n",
    "t.begin_fill()\n",
    "for i in range(3):\n",
    "    t.forward(200)\n",
    "    t.right(360/3)\n",
    "\n",
    "t.end_fill()\n",
    "\n",
    "t.forward(100)\n",
    "t.color('lightgreen')\n",
    "t.begin_fill()\n",
    "t.circle(100)  #반지름을 넣는다\n",
    "t.end_fill()\n",
    "\n",
    "#정중앙의 좌표값이 0,0이다\n",
    "t.goto(130,130)\n",
    "t.color('chocolate')\n",
    "t.begin_fill()\n",
    "t.circle(50)  #반지름을 넣는다\n",
    "t.end_fill()\n",
    "\n",
    "t.color('black')\n",
    "t.begin_fill()\n",
    "\n",
    "for i in range(5):\n",
    "    t.forward(30)\n",
    "    t.right(144)\n",
    "t.end_fill()\n",
    "\n",
    "time.sleep(3)  \n",
    "t.bye()  # Close the turtle graphics window\n"
   ]
  },
  {
   "cell_type": "markdown",
   "metadata": {},
   "source": []
  }
 ],
 "metadata": {
  "language_info": {
   "name": "python"
  }
 },
 "nbformat": 4,
 "nbformat_minor": 2
}
